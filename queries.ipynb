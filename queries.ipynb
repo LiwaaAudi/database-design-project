{
 "cells": [
  {
   "cell_type": "markdown",
   "source": [
    "# Queries results visualization"
   ],
   "metadata": {
    "collapsed": false
   }
  },
  {
   "cell_type": "code",
   "execution_count": 1,
   "outputs": [],
   "source": [
    "from py_scripts.db import PostgreSQL\n",
    "import pandas as pd\n",
    "\n",
    "pd.set_option('max_colwidth', 800)\n",
    "psql = PostgreSQL()"
   ],
   "metadata": {
    "collapsed": false,
    "pycharm": {
     "name": "#%%\n"
    }
   }
  },
  {
   "cell_type": "markdown",
   "source": [
    "### 1. Product with maximum quantity sold per order"
   ],
   "metadata": {
    "collapsed": false,
    "pycharm": {
     "name": "#%% md\n"
    }
   }
  },
  {
   "cell_type": "code",
   "execution_count": 2,
   "outputs": [
    {
     "data": {
      "text/plain": "                                            product_name  quantity\n0  Fjallraven - Foldsack No. 1 Backpack, Fits 15 Laptops        10",
      "text/html": "<div>\n<style scoped>\n    .dataframe tbody tr th:only-of-type {\n        vertical-align: middle;\n    }\n\n    .dataframe tbody tr th {\n        vertical-align: top;\n    }\n\n    .dataframe thead th {\n        text-align: right;\n    }\n</style>\n<table border=\"1\" class=\"dataframe\">\n  <thead>\n    <tr style=\"text-align: right;\">\n      <th></th>\n      <th>product_name</th>\n      <th>quantity</th>\n    </tr>\n  </thead>\n  <tbody>\n    <tr>\n      <th>0</th>\n      <td>Fjallraven - Foldsack No. 1 Backpack, Fits 15 Laptops</td>\n      <td>10</td>\n    </tr>\n  </tbody>\n</table>\n</div>"
     },
     "execution_count": 2,
     "metadata": {},
     "output_type": "execute_result"
    }
   ],
   "source": [
    "Q1 = '''\n",
    "    select product_name, quantity\n",
    "    from lineitems\n",
    "    where quantity = (select max(quantity) from lineitems);\n",
    "    '''\n",
    "psql.read(Q1)"
   ],
   "metadata": {
    "collapsed": false,
    "pycharm": {
     "name": "#%%\n"
    }
   }
  },
  {
   "cell_type": "markdown",
   "source": [
    "### 2. Cheapest product available in stock\n",
    "\n"
   ],
   "metadata": {
    "collapsed": false,
    "pycharm": {
     "name": "#%% md\n"
    }
   }
  },
  {
   "cell_type": "code",
   "execution_count": 3,
   "outputs": [
    {
     "data": {
      "text/plain": "                         product_name  price\n0  Opna Women's Short Sleeve Moisture   7.95",
      "text/html": "<div>\n<style scoped>\n    .dataframe tbody tr th:only-of-type {\n        vertical-align: middle;\n    }\n\n    .dataframe tbody tr th {\n        vertical-align: top;\n    }\n\n    .dataframe thead th {\n        text-align: right;\n    }\n</style>\n<table border=\"1\" class=\"dataframe\">\n  <thead>\n    <tr style=\"text-align: right;\">\n      <th></th>\n      <th>product_name</th>\n      <th>price</th>\n    </tr>\n  </thead>\n  <tbody>\n    <tr>\n      <th>0</th>\n      <td>Opna Women's Short Sleeve Moisture</td>\n      <td>7.95</td>\n    </tr>\n  </tbody>\n</table>\n</div>"
     },
     "execution_count": 3,
     "metadata": {},
     "output_type": "execute_result"
    }
   ],
   "source": [
    "Q2 = '''\n",
    "    select product_name, price\n",
    "    from products\n",
    "    where price = (select min(price) from products);\n",
    "    '''\n",
    "psql.read(Q2)"
   ],
   "metadata": {
    "collapsed": false,
    "pycharm": {
     "name": "#%%\n"
    }
   }
  },
  {
   "cell_type": "markdown",
   "source": [
    "### 3. Average lineitem purchases unique quantity"
   ],
   "metadata": {
    "collapsed": false,
    "pycharm": {
     "name": "#%% md\n"
    }
   }
  },
  {
   "cell_type": "code",
   "execution_count": 4,
   "outputs": [
    {
     "data": {
      "text/plain": "    avg\n0  4.33",
      "text/html": "<div>\n<style scoped>\n    .dataframe tbody tr th:only-of-type {\n        vertical-align: middle;\n    }\n\n    .dataframe tbody tr th {\n        vertical-align: top;\n    }\n\n    .dataframe thead th {\n        text-align: right;\n    }\n</style>\n<table border=\"1\" class=\"dataframe\">\n  <thead>\n    <tr style=\"text-align: right;\">\n      <th></th>\n      <th>avg</th>\n    </tr>\n  </thead>\n  <tbody>\n    <tr>\n      <th>0</th>\n      <td>4.33</td>\n    </tr>\n  </tbody>\n</table>\n</div>"
     },
     "execution_count": 4,
     "metadata": {},
     "output_type": "execute_result"
    }
   ],
   "source": [
    "Q3 = '''\n",
    "    select avg(distinct quantity)::numeric(10,2)\n",
    "    from lineitems;\n",
    "    '''\n",
    "psql.read(Q3)"
   ],
   "metadata": {
    "collapsed": false,
    "pycharm": {
     "name": "#%%\n"
    }
   }
  },
  {
   "cell_type": "markdown",
   "source": [
    "### 4. List of products Which weren't bought yet"
   ],
   "metadata": {
    "collapsed": false,
    "pycharm": {
     "name": "#%% md\n"
    }
   }
  },
  {
   "cell_type": "code",
   "execution_count": 5,
   "outputs": [
    {
     "data": {
      "text/plain": "   product_id        sku  \\\n0           4  PAZOD3VWQ   \n1           6  ZUSVKXKDX   \n2          11  UEGPJ4UTR   \n3          13  W2X3F0TKP   \n4          14  W3EUHC5LS   \n5          15  1NEU4H2V0   \n6          16  B1CFPECDI   \n7          17  OU3DQ9215   \n8          19  099LYDBL3   \n9          20  GK7542RWT   \n\n                                                                                        product_name  \\\n0                                                                               Mens Casual Slim Fit   \n1                                                                       Solid Gold Petite Micropave    \n2                       Silicon Power 256GB SSD 3D NAND A55 SLC Cache Performance Boost SATA III 2.5   \n3                                    Acer SB220Q bi 21.5 inches Full HD (1920 x 1080) IPS Ultra-Thin   \n4  Samsung 49-Inch CHG90 144Hz Curved Gaming Monitor (LC49HG90DMNXZA) – Super Ultrawide Screen QLED    \n5                                           BIYLACLESEN Women's 3-in-1 Snowboard Jacket Winter Coats   \n6                              Lock and Love Women's Removable Hooded Faux Leather Moto Biker Jacket   \n7                                           Rain Jacket Women Windbreaker Striped Climbing Raincoats   \n8                                                                 Opna Women's Short Sleeve Moisture   \n9                                                         DANVOUY Womens T Shirt Casual Cotton Short   \n\n                                                                                                                                                                                                                                                                                                                                                                                                                                                                                                                                                                                                                                                                                                                                                                                            description  \\\n0                                                                                                                                                                                                                                                                                                                                                                                                                                                                                                                                                                                 The color could be slightly different between on the screen and in practice. / Please note that body builds vary by person, therefore, detailed size information should be reviewed below on the product description.   \n1                                                                                                                                                                                                                                                                                                                                                                                                                                                                                                                                                                                                   Satisfaction Guaranteed. Return or exchange any order within 30 days.Designed and sold by Hafeez Center in the United States. Satisfaction Guaranteed. Return or exchange any order within 30 days.   \n2                                                                                                                                                                                                                                                                                                                             3D NAND flash are applied to deliver high transfer speeds Remarkable transfer speeds that enable faster bootup and improved overall system performance. The advanced SLC Cache Technology allows performance boost and longer lifespan 7mm slim design suitable for Ultrabooks and Ultra-slim notebooks. Supports TRIM command, Garbage Collection technology, RAID, and ECC (Error Checking & Correction) to provide the optimized performance and enhanced reliability.   \n3                                                                                                                                                                                                                                                                                                                                                                  21. 5 inches Full HD (1920 x 1080) widescreen IPS display And Radeon free Sync technology. No compatibility for VESA Mount Refresh Rate: 75Hz - Using HDMI port Zero-frame design | ultra-thin | 4ms response time | IPS panel Aspect ratio - 16: 9. Color Supported - 16. 7 million colors. Brightness - 250 nit Tilt angle -5 degree to 15 degree. Horizontal viewing angle-178 degree. Vertical viewing angle-178 degree 75 hertz   \n4                                                                                                                                                                                                                                                                                                                                                                                                                                                      49 INCH SUPER ULTRAWIDE 32:9 CURVED GAMING MONITOR with dual 27 inch screen side by side QUANTUM DOT (QLED) TECHNOLOGY, HDR support and factory calibration provides stunningly realistic and accurate color and contrast 144HZ HIGH REFRESH RATE and 1ms ultra fast response time work to eliminate motion blur, ghosting, and reduce input lag   \n5  Note:The Jackets is US standard size, Please choose size as your usual wear Material: 100% Polyester; Detachable Liner Fabric: Warm Fleece. Detachable Functional Liner: Skin Friendly, Lightweigt and Warm.Stand Collar Liner jacket, keep you warm in cold weather. Zippered Pockets: 2 Zippered Hand Pockets, 2 Zippered Pockets on Chest (enough to keep cards or keys)and 1 Hidden Pocket Inside.Zippered Hand Pockets and Hidden Pocket keep your things secure. Humanized Design: Adjustable and Detachable Hood and Adjustable cuff to prevent the wind and water,for a comfortable fit. 3 in 1 Detachable Design provide more convenience, you can separate the coat and inner as needed, or wear it together. It is suitable for different season and help you adapt to different climates   \n6                                                                                                                                                                                                                                                                                                                                                                                                                                                                                   100% POLYURETHANE(shell) 100% POLYESTER(lining) 75% POLYESTER 25% COTTON (SWEATER), Faux leather material for style and comfort / 2 pockets of front, 2-For-One Hooded denim style faux leather jacket, Button detail on waist / Detail stitching at sides, HAND WASH ONLY / DO NOT BLEACH / LINE DRY / DO NOT IRON   \n7                                                                                                                                                                                                                                                                                                                                                                                        Lightweight perfet for trip or casual wear---Long sleeve with hooded, adjustable drawstring waist design. Button and zipper front closure raincoat, fully stripes Lined and The Raincoat has 2 side pockets are a good size to hold all kinds of things, it covers the hips, and the hood is generous but doesn't overdo it.Attached Cotton Lined Hood with Adjustable Drawstrings give it a real styled look.   \n8                                                                                                                                                                                                                                                                                                                                                                                                                                           100% Polyester, Machine wash, 100% cationic polyester interlock, Machine Wash & Pre Shrunk for a Great Fit, Lightweight, roomy and highly breathable with moisture wicking fabric which helps to keep moisture away, Soft Lightweight Fabric with comfortable V-neck collar and a slimmer fit, delivers a sleek, more feminine silhouette and Added Comfort   \n9                                                                                                                                                                                                                                                                                                                                                                                                                                                                                                                                                                               95%Cotton,5%Spandex, Features: Casual, Short Sleeve, Letter Print,V-Neck,Fashion Tees, The fabric is soft and has some stretch., Occasion: Casual/Office/Beach/School/Home/Street. Season: Spring,Summer,Autumn,Winter.   \n\n   category_id   price  rate  rating_count  in_stock  \n0            3   15.99   2.1           430      True  \n1            2  168.00   3.9            70      True  \n2            1  109.00   4.8           319      True  \n3            1  599.00   2.9           250      True  \n4            1  999.99   2.2           140      True  \n5            4   56.99   2.6           235      True  \n6            4   29.95   2.9           340      True  \n7            4   39.99   3.8           679      True  \n8            4    7.95   4.5           146      True  \n9            4   12.99   3.6           145      True  ",
      "text/html": "<div>\n<style scoped>\n    .dataframe tbody tr th:only-of-type {\n        vertical-align: middle;\n    }\n\n    .dataframe tbody tr th {\n        vertical-align: top;\n    }\n\n    .dataframe thead th {\n        text-align: right;\n    }\n</style>\n<table border=\"1\" class=\"dataframe\">\n  <thead>\n    <tr style=\"text-align: right;\">\n      <th></th>\n      <th>product_id</th>\n      <th>sku</th>\n      <th>product_name</th>\n      <th>description</th>\n      <th>category_id</th>\n      <th>price</th>\n      <th>rate</th>\n      <th>rating_count</th>\n      <th>in_stock</th>\n    </tr>\n  </thead>\n  <tbody>\n    <tr>\n      <th>0</th>\n      <td>4</td>\n      <td>PAZOD3VWQ</td>\n      <td>Mens Casual Slim Fit</td>\n      <td>The color could be slightly different between on the screen and in practice. / Please note that body builds vary by person, therefore, detailed size information should be reviewed below on the product description.</td>\n      <td>3</td>\n      <td>15.99</td>\n      <td>2.1</td>\n      <td>430</td>\n      <td>True</td>\n    </tr>\n    <tr>\n      <th>1</th>\n      <td>6</td>\n      <td>ZUSVKXKDX</td>\n      <td>Solid Gold Petite Micropave</td>\n      <td>Satisfaction Guaranteed. Return or exchange any order within 30 days.Designed and sold by Hafeez Center in the United States. Satisfaction Guaranteed. Return or exchange any order within 30 days.</td>\n      <td>2</td>\n      <td>168.00</td>\n      <td>3.9</td>\n      <td>70</td>\n      <td>True</td>\n    </tr>\n    <tr>\n      <th>2</th>\n      <td>11</td>\n      <td>UEGPJ4UTR</td>\n      <td>Silicon Power 256GB SSD 3D NAND A55 SLC Cache Performance Boost SATA III 2.5</td>\n      <td>3D NAND flash are applied to deliver high transfer speeds Remarkable transfer speeds that enable faster bootup and improved overall system performance. The advanced SLC Cache Technology allows performance boost and longer lifespan 7mm slim design suitable for Ultrabooks and Ultra-slim notebooks. Supports TRIM command, Garbage Collection technology, RAID, and ECC (Error Checking &amp; Correction) to provide the optimized performance and enhanced reliability.</td>\n      <td>1</td>\n      <td>109.00</td>\n      <td>4.8</td>\n      <td>319</td>\n      <td>True</td>\n    </tr>\n    <tr>\n      <th>3</th>\n      <td>13</td>\n      <td>W2X3F0TKP</td>\n      <td>Acer SB220Q bi 21.5 inches Full HD (1920 x 1080) IPS Ultra-Thin</td>\n      <td>21. 5 inches Full HD (1920 x 1080) widescreen IPS display And Radeon free Sync technology. No compatibility for VESA Mount Refresh Rate: 75Hz - Using HDMI port Zero-frame design | ultra-thin | 4ms response time | IPS panel Aspect ratio - 16: 9. Color Supported - 16. 7 million colors. Brightness - 250 nit Tilt angle -5 degree to 15 degree. Horizontal viewing angle-178 degree. Vertical viewing angle-178 degree 75 hertz</td>\n      <td>1</td>\n      <td>599.00</td>\n      <td>2.9</td>\n      <td>250</td>\n      <td>True</td>\n    </tr>\n    <tr>\n      <th>4</th>\n      <td>14</td>\n      <td>W3EUHC5LS</td>\n      <td>Samsung 49-Inch CHG90 144Hz Curved Gaming Monitor (LC49HG90DMNXZA) – Super Ultrawide Screen QLED</td>\n      <td>49 INCH SUPER ULTRAWIDE 32:9 CURVED GAMING MONITOR with dual 27 inch screen side by side QUANTUM DOT (QLED) TECHNOLOGY, HDR support and factory calibration provides stunningly realistic and accurate color and contrast 144HZ HIGH REFRESH RATE and 1ms ultra fast response time work to eliminate motion blur, ghosting, and reduce input lag</td>\n      <td>1</td>\n      <td>999.99</td>\n      <td>2.2</td>\n      <td>140</td>\n      <td>True</td>\n    </tr>\n    <tr>\n      <th>5</th>\n      <td>15</td>\n      <td>1NEU4H2V0</td>\n      <td>BIYLACLESEN Women's 3-in-1 Snowboard Jacket Winter Coats</td>\n      <td>Note:The Jackets is US standard size, Please choose size as your usual wear Material: 100% Polyester; Detachable Liner Fabric: Warm Fleece. Detachable Functional Liner: Skin Friendly, Lightweigt and Warm.Stand Collar Liner jacket, keep you warm in cold weather. Zippered Pockets: 2 Zippered Hand Pockets, 2 Zippered Pockets on Chest (enough to keep cards or keys)and 1 Hidden Pocket Inside.Zippered Hand Pockets and Hidden Pocket keep your things secure. Humanized Design: Adjustable and Detachable Hood and Adjustable cuff to prevent the wind and water,for a comfortable fit. 3 in 1 Detachable Design provide more convenience, you can separate the coat and inner as needed, or wear it together. It is suitable for different season and help you adapt to different climates</td>\n      <td>4</td>\n      <td>56.99</td>\n      <td>2.6</td>\n      <td>235</td>\n      <td>True</td>\n    </tr>\n    <tr>\n      <th>6</th>\n      <td>16</td>\n      <td>B1CFPECDI</td>\n      <td>Lock and Love Women's Removable Hooded Faux Leather Moto Biker Jacket</td>\n      <td>100% POLYURETHANE(shell) 100% POLYESTER(lining) 75% POLYESTER 25% COTTON (SWEATER), Faux leather material for style and comfort / 2 pockets of front, 2-For-One Hooded denim style faux leather jacket, Button detail on waist / Detail stitching at sides, HAND WASH ONLY / DO NOT BLEACH / LINE DRY / DO NOT IRON</td>\n      <td>4</td>\n      <td>29.95</td>\n      <td>2.9</td>\n      <td>340</td>\n      <td>True</td>\n    </tr>\n    <tr>\n      <th>7</th>\n      <td>17</td>\n      <td>OU3DQ9215</td>\n      <td>Rain Jacket Women Windbreaker Striped Climbing Raincoats</td>\n      <td>Lightweight perfet for trip or casual wear---Long sleeve with hooded, adjustable drawstring waist design. Button and zipper front closure raincoat, fully stripes Lined and The Raincoat has 2 side pockets are a good size to hold all kinds of things, it covers the hips, and the hood is generous but doesn't overdo it.Attached Cotton Lined Hood with Adjustable Drawstrings give it a real styled look.</td>\n      <td>4</td>\n      <td>39.99</td>\n      <td>3.8</td>\n      <td>679</td>\n      <td>True</td>\n    </tr>\n    <tr>\n      <th>8</th>\n      <td>19</td>\n      <td>099LYDBL3</td>\n      <td>Opna Women's Short Sleeve Moisture</td>\n      <td>100% Polyester, Machine wash, 100% cationic polyester interlock, Machine Wash &amp; Pre Shrunk for a Great Fit, Lightweight, roomy and highly breathable with moisture wicking fabric which helps to keep moisture away, Soft Lightweight Fabric with comfortable V-neck collar and a slimmer fit, delivers a sleek, more feminine silhouette and Added Comfort</td>\n      <td>4</td>\n      <td>7.95</td>\n      <td>4.5</td>\n      <td>146</td>\n      <td>True</td>\n    </tr>\n    <tr>\n      <th>9</th>\n      <td>20</td>\n      <td>GK7542RWT</td>\n      <td>DANVOUY Womens T Shirt Casual Cotton Short</td>\n      <td>95%Cotton,5%Spandex, Features: Casual, Short Sleeve, Letter Print,V-Neck,Fashion Tees, The fabric is soft and has some stretch., Occasion: Casual/Office/Beach/School/Home/Street. Season: Spring,Summer,Autumn,Winter.</td>\n      <td>4</td>\n      <td>12.99</td>\n      <td>3.6</td>\n      <td>145</td>\n      <td>True</td>\n    </tr>\n  </tbody>\n</table>\n</div>"
     },
     "execution_count": 5,
     "metadata": {},
     "output_type": "execute_result"
    }
   ],
   "source": [
    "Q4 = '''\n",
    "    select *\n",
    "    from products p\n",
    "    where p.product_id not in (select product_id from lineitems);\n",
    "    '''\n",
    "psql.read(Q4)"
   ],
   "metadata": {
    "collapsed": false,
    "pycharm": {
     "name": "#%%\n"
    }
   }
  },
  {
   "cell_type": "markdown",
   "source": [
    "### 5. Union products and lineitems"
   ],
   "metadata": {
    "collapsed": false,
    "pycharm": {
     "name": "#%% md\n"
    }
   }
  },
  {
   "cell_type": "code",
   "execution_count": 6,
   "outputs": [
    {
     "data": {
      "text/plain": "    product_id  \\\n0            1   \n1            2   \n2            3   \n3            4   \n4            5   \n5            6   \n6            7   \n7            8   \n8            9   \n9           10   \n10          11   \n11          12   \n12          13   \n13          14   \n14          15   \n15          16   \n16          17   \n17          18   \n18          19   \n19          20   \n20           1   \n21           2   \n22           3   \n23           2   \n24           1   \n25           5   \n26           1   \n27           9   \n28           1   \n29           7   \n30           8   \n31          10   \n32          12   \n33          18   \n\n                                                                                         product_name  \\\n0                                               Fjallraven - Foldsack No. 1 Backpack, Fits 15 Laptops   \n1                                                              Mens Casual Premium Slim Fit T-Shirts    \n2                                                                                  Mens Cotton Jacket   \n3                                                                                Mens Casual Slim Fit   \n4                         John Hardy Women's Legends Naga Gold & Silver Dragon Station Chain Bracelet   \n5                                                                        Solid Gold Petite Micropave    \n6                                                                          White Gold Plated Princess   \n7                                                 Pierced Owl Rose Gold Plated Stainless Steel Double   \n8                                             WD 2TB Elements Portable External Hard Drive - USB 3.0    \n9                                                 SanDisk SSD PLUS 1TB Internal SSD - SATA III 6 Gb/s   \n10                       Silicon Power 256GB SSD 3D NAND A55 SLC Cache Performance Boost SATA III 2.5   \n11                          WD 4TB Gaming Drive Works with Playstation 4 Portable External Hard Drive   \n12                                    Acer SB220Q bi 21.5 inches Full HD (1920 x 1080) IPS Ultra-Thin   \n13  Samsung 49-Inch CHG90 144Hz Curved Gaming Monitor (LC49HG90DMNXZA) – Super Ultrawide Screen QLED    \n14                                           BIYLACLESEN Women's 3-in-1 Snowboard Jacket Winter Coats   \n15                              Lock and Love Women's Removable Hooded Faux Leather Moto Biker Jacket   \n16                                           Rain Jacket Women Windbreaker Striped Climbing Raincoats   \n17                                                        MBJ Women's Solid Short Sleeve Boat Neck V    \n18                                                                 Opna Women's Short Sleeve Moisture   \n19                                                         DANVOUY Womens T Shirt Casual Cotton Short   \n20                                              Fjallraven - Foldsack No. 1 Backpack, Fits 15 Laptops   \n21                                                             Mens Casual Premium Slim Fit T-Shirts    \n22                                                                                 Mens Cotton Jacket   \n23                                                             Mens Casual Premium Slim Fit T-Shirts    \n24                                              Fjallraven - Foldsack No. 1 Backpack, Fits 15 Laptops   \n25                        John Hardy Women's Legends Naga Gold & Silver Dragon Station Chain Bracelet   \n26                                              Fjallraven - Foldsack No. 1 Backpack, Fits 15 Laptops   \n27                                            WD 2TB Elements Portable External Hard Drive - USB 3.0    \n28                                              Fjallraven - Foldsack No. 1 Backpack, Fits 15 Laptops   \n29                                                                         White Gold Plated Princess   \n30                                                Pierced Owl Rose Gold Plated Stainless Steel Double   \n31                                                SanDisk SSD PLUS 1TB Internal SSD - SATA III 6 Gb/s   \n32                          WD 4TB Gaming Drive Works with Playstation 4 Portable External Hard Drive   \n33                                                        MBJ Women's Solid Short Sleeve Boat Neck V    \n\n                                                                                                                                                                                                                                                                                                                                                                                                                                                                                                                                                                                                                                                                                                                                                                                             description  \\\n0                                                                                                                                                                                                                                                                                                                                                                                                                                                                                                                                                                                                                                                                    Your perfect pack for everyday use and walks in the forest. Stash your laptop (up to 15 inches) in the padded sleeve, your everyday   \n1                                                                                                                                                                                                                                                                                                                                                                                                                                                     Slim-fitting style, contrast raglan long sleeve, three-button henley placket, light weight & soft fabric for breathable and comfortable wearing. And Solid stitched shirts with round neck made for durability and a great fit for casual fashion wear and diehard baseball fans. The Henley style round neckline includes a three-button placket.   \n2                                                                                                                                                                                                                                                                                                                                                                                                                                                                                    great outerwear jackets for Spring/Autumn/Winter, suitable for many occasions, such as working, hiking, camping, mountain/rock climbing, cycling, traveling or other outdoors. Good gift choice for you or your family member. A warm hearted love to Father, husband or son in this thanksgiving or Christmas Day.   \n3                                                                                                                                                                                                                                                                                                                                                                                                                                                                                                                                                                                  The color could be slightly different between on the screen and in practice. / Please note that body builds vary by person, therefore, detailed size information should be reviewed below on the product description.   \n4                                                                                                                                                                                                                                                                                                                                                                                                                                                                                                                                                                                                 From our Legends Collection, the Naga was inspired by the mythical water dragon that protects the ocean's pearl. Wear facing inward to be bestowed with love and abundance, or outward for protection.   \n5                                                                                                                                                                                                                                                                                                                                                                                                                                                                                                                                                                                                    Satisfaction Guaranteed. Return or exchange any order within 30 days.Designed and sold by Hafeez Center in the United States. Satisfaction Guaranteed. Return or exchange any order within 30 days.   \n6                                                                                                                                                                                                                                                                                                                                                                                                                                                                                                                                                                                                                                      Classic Created Wedding Engagement Solitaire Diamond Promise Ring for Her. Gifts to spoil your love more for Engagement, Wedding, Anniversary, Valentine's Day...   \n7                                                                                                                                                                                                                                                                                                                                                                                                                                                                                                                                                                                                                                                                                                                      Rose Gold Plated Double Flared Tunnel Plug Earrings. Made of 316L Stainless Steel   \n8                                                                                                                                                                                                                                                                                                                                                                                                                                                                                      USB 3.0 and USB 2.0 Compatibility Fast data transfers Improve PC Performance High Capacity; Compatibility Formatted NTFS for Windows 10, Windows 8.1, Windows 7; Reformatting may be required for other operating systems; Compatibility may vary depending on user’s hardware configuration and operating system   \n9                                                                                                                                                                                                                                                                                        Easy upgrade for faster boot up, shutdown, application load and response (As compared to 5400 RPM SATA 2.5” hard drive; Based on published specifications and internal benchmarking tests using PCMark vantage scores) Boosts burst write performance, making it ideal for typical PC workloads The perfect balance of performance and reliability Read/write speeds of up to 535MB/s/450MB/s (Based on internal testing; Performance may vary depending upon drive capacity, host device, OS and application.)   \n10                                                                                                                                                                                                                                                                                                                             3D NAND flash are applied to deliver high transfer speeds Remarkable transfer speeds that enable faster bootup and improved overall system performance. The advanced SLC Cache Technology allows performance boost and longer lifespan 7mm slim design suitable for Ultrabooks and Ultra-slim notebooks. Supports TRIM command, Garbage Collection technology, RAID, and ECC (Error Checking & Correction) to provide the optimized performance and enhanced reliability.   \n11                                                                                                                                                                                                                                                                                                                                                                                                                                                                                                                                                                                                                                                         Expand your PS4 gaming experience, Play anywhere Fast and easy, setup Sleek design with high capacity, 3-year manufacturer's limited warranty   \n12                                                                                                                                                                                                                                                                                                                                                                  21. 5 inches Full HD (1920 x 1080) widescreen IPS display And Radeon free Sync technology. No compatibility for VESA Mount Refresh Rate: 75Hz - Using HDMI port Zero-frame design | ultra-thin | 4ms response time | IPS panel Aspect ratio - 16: 9. Color Supported - 16. 7 million colors. Brightness - 250 nit Tilt angle -5 degree to 15 degree. Horizontal viewing angle-178 degree. Vertical viewing angle-178 degree 75 hertz   \n13                                                                                                                                                                                                                                                                                                                                                                                                                                                      49 INCH SUPER ULTRAWIDE 32:9 CURVED GAMING MONITOR with dual 27 inch screen side by side QUANTUM DOT (QLED) TECHNOLOGY, HDR support and factory calibration provides stunningly realistic and accurate color and contrast 144HZ HIGH REFRESH RATE and 1ms ultra fast response time work to eliminate motion blur, ghosting, and reduce input lag   \n14  Note:The Jackets is US standard size, Please choose size as your usual wear Material: 100% Polyester; Detachable Liner Fabric: Warm Fleece. Detachable Functional Liner: Skin Friendly, Lightweigt and Warm.Stand Collar Liner jacket, keep you warm in cold weather. Zippered Pockets: 2 Zippered Hand Pockets, 2 Zippered Pockets on Chest (enough to keep cards or keys)and 1 Hidden Pocket Inside.Zippered Hand Pockets and Hidden Pocket keep your things secure. Humanized Design: Adjustable and Detachable Hood and Adjustable cuff to prevent the wind and water,for a comfortable fit. 3 in 1 Detachable Design provide more convenience, you can separate the coat and inner as needed, or wear it together. It is suitable for different season and help you adapt to different climates   \n15                                                                                                                                                                                                                                                                                                                                                                                                                                                                                   100% POLYURETHANE(shell) 100% POLYESTER(lining) 75% POLYESTER 25% COTTON (SWEATER), Faux leather material for style and comfort / 2 pockets of front, 2-For-One Hooded denim style faux leather jacket, Button detail on waist / Detail stitching at sides, HAND WASH ONLY / DO NOT BLEACH / LINE DRY / DO NOT IRON   \n16                                                                                                                                                                                                                                                                                                                                                                                        Lightweight perfet for trip or casual wear---Long sleeve with hooded, adjustable drawstring waist design. Button and zipper front closure raincoat, fully stripes Lined and The Raincoat has 2 side pockets are a good size to hold all kinds of things, it covers the hips, and the hood is generous but doesn't overdo it.Attached Cotton Lined Hood with Adjustable Drawstrings give it a real styled look.   \n17                                                                                                                                                                                                                                                                                                                                                                                                                                                                                                                                                                                                                      95% RAYON 5% SPANDEX, Made in USA or Imported, Do Not Bleach, Lightweight fabric with great stretch for comfort, Ribbed on sleeves and neckline / Double stitching on bottom hem   \n18                                                                                                                                                                                                                                                                                                                                                                                                                                           100% Polyester, Machine wash, 100% cationic polyester interlock, Machine Wash & Pre Shrunk for a Great Fit, Lightweight, roomy and highly breathable with moisture wicking fabric which helps to keep moisture away, Soft Lightweight Fabric with comfortable V-neck collar and a slimmer fit, delivers a sleek, more feminine silhouette and Added Comfort   \n19                                                                                                                                                                                                                                                                                                                                                                                                                                                                                                                                                                               95%Cotton,5%Spandex, Features: Casual, Short Sleeve, Letter Print,V-Neck,Fashion Tees, The fabric is soft and has some stretch., Occasion: Casual/Office/Beach/School/Home/Street. Season: Spring,Summer,Autumn,Winter.   \n20                                                                                                                                                                                                                                                                                                                                                                                                                                                                                                                                                                                                                                                                   Your perfect pack for everyday use and walks in the forest. Stash your laptop (up to 15 inches) in the padded sleeve, your everyday   \n21                                                                                                                                                                                                                                                                                                                                                                                                                                                    Slim-fitting style, contrast raglan long sleeve, three-button henley placket, light weight & soft fabric for breathable and comfortable wearing. And Solid stitched shirts with round neck made for durability and a great fit for casual fashion wear and diehard baseball fans. The Henley style round neckline includes a three-button placket.   \n22                                                                                                                                                                                                                                                                                                                                                                                                                                                                                   great outerwear jackets for Spring/Autumn/Winter, suitable for many occasions, such as working, hiking, camping, mountain/rock climbing, cycling, traveling or other outdoors. Good gift choice for you or your family member. A warm hearted love to Father, husband or son in this thanksgiving or Christmas Day.   \n23                                                                                                                                                                                                                                                                                                                                                                                                                                                    Slim-fitting style, contrast raglan long sleeve, three-button henley placket, light weight & soft fabric for breathable and comfortable wearing. And Solid stitched shirts with round neck made for durability and a great fit for casual fashion wear and diehard baseball fans. The Henley style round neckline includes a three-button placket.   \n24                                                                                                                                                                                                                                                                                                                                                                                                                                                                                                                                                                                                                                                                   Your perfect pack for everyday use and walks in the forest. Stash your laptop (up to 15 inches) in the padded sleeve, your everyday   \n25                                                                                                                                                                                                                                                                                                                                                                                                                                                                                                                                                                                                From our Legends Collection, the Naga was inspired by the mythical water dragon that protects the ocean's pearl. Wear facing inward to be bestowed with love and abundance, or outward for protection.   \n26                                                                                                                                                                                                                                                                                                                                                                                                                                                                                                                                                                                                                                                                   Your perfect pack for everyday use and walks in the forest. Stash your laptop (up to 15 inches) in the padded sleeve, your everyday   \n27                                                                                                                                                                                                                                                                                                                                                                                                                                                                                     USB 3.0 and USB 2.0 Compatibility Fast data transfers Improve PC Performance High Capacity; Compatibility Formatted NTFS for Windows 10, Windows 8.1, Windows 7; Reformatting may be required for other operating systems; Compatibility may vary depending on user’s hardware configuration and operating system   \n28                                                                                                                                                                                                                                                                                                                                                                                                                                                                                                                                                                                                                                                                   Your perfect pack for everyday use and walks in the forest. Stash your laptop (up to 15 inches) in the padded sleeve, your everyday   \n29                                                                                                                                                                                                                                                                                                                                                                                                                                                                                                                                                                                                                                     Classic Created Wedding Engagement Solitaire Diamond Promise Ring for Her. Gifts to spoil your love more for Engagement, Wedding, Anniversary, Valentine's Day...   \n30                                                                                                                                                                                                                                                                                                                                                                                                                                                                                                                                                                                                                                                                                                                     Rose Gold Plated Double Flared Tunnel Plug Earrings. Made of 316L Stainless Steel   \n31                                                                                                                                                                                                                                                                                       Easy upgrade for faster boot up, shutdown, application load and response (As compared to 5400 RPM SATA 2.5” hard drive; Based on published specifications and internal benchmarking tests using PCMark vantage scores) Boosts burst write performance, making it ideal for typical PC workloads The perfect balance of performance and reliability Read/write speeds of up to 535MB/s/450MB/s (Based on internal testing; Performance may vary depending upon drive capacity, host device, OS and application.)   \n32                                                                                                                                                                                                                                                                                                                             3D NAND flash are applied to deliver high transfer speeds Remarkable transfer speeds that enable faster bootup and improved overall system performance. The advanced SLC Cache Technology allows performance boost and longer lifespan 7mm slim design suitable for Ultrabooks and Ultra-slim notebooks. Supports TRIM command, Garbage Collection technology, RAID, and ECC (Error Checking & Correction) to provide the optimized performance and enhanced reliability.   \n33                                                                                                                                                                                                                                                                                                                                                                                                                                                                                                                                                                                                                      95% RAYON 5% SPANDEX, Made in USA or Imported, Do Not Bleach, Lightweight fabric with great stretch for comfort, Ribbed on sleeves and neckline / Double stitching on bottom hem   \n\n     price  \n0   109.95  \n1    22.30  \n2    55.99  \n3    15.99  \n4   695.00  \n5   168.00  \n6     9.99  \n7    10.99  \n8    64.00  \n9   109.00  \n10  109.00  \n11  114.00  \n12  599.00  \n13  999.99  \n14   56.99  \n15   29.95  \n16   39.99  \n17    9.85  \n18    7.95  \n19   12.99  \n20  109.95  \n21   22.30  \n22   55.99  \n23   22.30  \n24  109.95  \n25    4.60  \n26  109.95  \n27   64.00  \n28  109.95  \n29    9.99  \n30   10.99  \n31  109.00  \n32  114.00  \n33    9.85  ",
      "text/html": "<div>\n<style scoped>\n    .dataframe tbody tr th:only-of-type {\n        vertical-align: middle;\n    }\n\n    .dataframe tbody tr th {\n        vertical-align: top;\n    }\n\n    .dataframe thead th {\n        text-align: right;\n    }\n</style>\n<table border=\"1\" class=\"dataframe\">\n  <thead>\n    <tr style=\"text-align: right;\">\n      <th></th>\n      <th>product_id</th>\n      <th>product_name</th>\n      <th>description</th>\n      <th>price</th>\n    </tr>\n  </thead>\n  <tbody>\n    <tr>\n      <th>0</th>\n      <td>1</td>\n      <td>Fjallraven - Foldsack No. 1 Backpack, Fits 15 Laptops</td>\n      <td>Your perfect pack for everyday use and walks in the forest. Stash your laptop (up to 15 inches) in the padded sleeve, your everyday</td>\n      <td>109.95</td>\n    </tr>\n    <tr>\n      <th>1</th>\n      <td>2</td>\n      <td>Mens Casual Premium Slim Fit T-Shirts</td>\n      <td>Slim-fitting style, contrast raglan long sleeve, three-button henley placket, light weight &amp; soft fabric for breathable and comfortable wearing. And Solid stitched shirts with round neck made for durability and a great fit for casual fashion wear and diehard baseball fans. The Henley style round neckline includes a three-button placket.</td>\n      <td>22.30</td>\n    </tr>\n    <tr>\n      <th>2</th>\n      <td>3</td>\n      <td>Mens Cotton Jacket</td>\n      <td>great outerwear jackets for Spring/Autumn/Winter, suitable for many occasions, such as working, hiking, camping, mountain/rock climbing, cycling, traveling or other outdoors. Good gift choice for you or your family member. A warm hearted love to Father, husband or son in this thanksgiving or Christmas Day.</td>\n      <td>55.99</td>\n    </tr>\n    <tr>\n      <th>3</th>\n      <td>4</td>\n      <td>Mens Casual Slim Fit</td>\n      <td>The color could be slightly different between on the screen and in practice. / Please note that body builds vary by person, therefore, detailed size information should be reviewed below on the product description.</td>\n      <td>15.99</td>\n    </tr>\n    <tr>\n      <th>4</th>\n      <td>5</td>\n      <td>John Hardy Women's Legends Naga Gold &amp; Silver Dragon Station Chain Bracelet</td>\n      <td>From our Legends Collection, the Naga was inspired by the mythical water dragon that protects the ocean's pearl. Wear facing inward to be bestowed with love and abundance, or outward for protection.</td>\n      <td>695.00</td>\n    </tr>\n    <tr>\n      <th>5</th>\n      <td>6</td>\n      <td>Solid Gold Petite Micropave</td>\n      <td>Satisfaction Guaranteed. Return or exchange any order within 30 days.Designed and sold by Hafeez Center in the United States. Satisfaction Guaranteed. Return or exchange any order within 30 days.</td>\n      <td>168.00</td>\n    </tr>\n    <tr>\n      <th>6</th>\n      <td>7</td>\n      <td>White Gold Plated Princess</td>\n      <td>Classic Created Wedding Engagement Solitaire Diamond Promise Ring for Her. Gifts to spoil your love more for Engagement, Wedding, Anniversary, Valentine's Day...</td>\n      <td>9.99</td>\n    </tr>\n    <tr>\n      <th>7</th>\n      <td>8</td>\n      <td>Pierced Owl Rose Gold Plated Stainless Steel Double</td>\n      <td>Rose Gold Plated Double Flared Tunnel Plug Earrings. Made of 316L Stainless Steel</td>\n      <td>10.99</td>\n    </tr>\n    <tr>\n      <th>8</th>\n      <td>9</td>\n      <td>WD 2TB Elements Portable External Hard Drive - USB 3.0</td>\n      <td>USB 3.0 and USB 2.0 Compatibility Fast data transfers Improve PC Performance High Capacity; Compatibility Formatted NTFS for Windows 10, Windows 8.1, Windows 7; Reformatting may be required for other operating systems; Compatibility may vary depending on user’s hardware configuration and operating system</td>\n      <td>64.00</td>\n    </tr>\n    <tr>\n      <th>9</th>\n      <td>10</td>\n      <td>SanDisk SSD PLUS 1TB Internal SSD - SATA III 6 Gb/s</td>\n      <td>Easy upgrade for faster boot up, shutdown, application load and response (As compared to 5400 RPM SATA 2.5” hard drive; Based on published specifications and internal benchmarking tests using PCMark vantage scores) Boosts burst write performance, making it ideal for typical PC workloads The perfect balance of performance and reliability Read/write speeds of up to 535MB/s/450MB/s (Based on internal testing; Performance may vary depending upon drive capacity, host device, OS and application.)</td>\n      <td>109.00</td>\n    </tr>\n    <tr>\n      <th>10</th>\n      <td>11</td>\n      <td>Silicon Power 256GB SSD 3D NAND A55 SLC Cache Performance Boost SATA III 2.5</td>\n      <td>3D NAND flash are applied to deliver high transfer speeds Remarkable transfer speeds that enable faster bootup and improved overall system performance. The advanced SLC Cache Technology allows performance boost and longer lifespan 7mm slim design suitable for Ultrabooks and Ultra-slim notebooks. Supports TRIM command, Garbage Collection technology, RAID, and ECC (Error Checking &amp; Correction) to provide the optimized performance and enhanced reliability.</td>\n      <td>109.00</td>\n    </tr>\n    <tr>\n      <th>11</th>\n      <td>12</td>\n      <td>WD 4TB Gaming Drive Works with Playstation 4 Portable External Hard Drive</td>\n      <td>Expand your PS4 gaming experience, Play anywhere Fast and easy, setup Sleek design with high capacity, 3-year manufacturer's limited warranty</td>\n      <td>114.00</td>\n    </tr>\n    <tr>\n      <th>12</th>\n      <td>13</td>\n      <td>Acer SB220Q bi 21.5 inches Full HD (1920 x 1080) IPS Ultra-Thin</td>\n      <td>21. 5 inches Full HD (1920 x 1080) widescreen IPS display And Radeon free Sync technology. No compatibility for VESA Mount Refresh Rate: 75Hz - Using HDMI port Zero-frame design | ultra-thin | 4ms response time | IPS panel Aspect ratio - 16: 9. Color Supported - 16. 7 million colors. Brightness - 250 nit Tilt angle -5 degree to 15 degree. Horizontal viewing angle-178 degree. Vertical viewing angle-178 degree 75 hertz</td>\n      <td>599.00</td>\n    </tr>\n    <tr>\n      <th>13</th>\n      <td>14</td>\n      <td>Samsung 49-Inch CHG90 144Hz Curved Gaming Monitor (LC49HG90DMNXZA) – Super Ultrawide Screen QLED</td>\n      <td>49 INCH SUPER ULTRAWIDE 32:9 CURVED GAMING MONITOR with dual 27 inch screen side by side QUANTUM DOT (QLED) TECHNOLOGY, HDR support and factory calibration provides stunningly realistic and accurate color and contrast 144HZ HIGH REFRESH RATE and 1ms ultra fast response time work to eliminate motion blur, ghosting, and reduce input lag</td>\n      <td>999.99</td>\n    </tr>\n    <tr>\n      <th>14</th>\n      <td>15</td>\n      <td>BIYLACLESEN Women's 3-in-1 Snowboard Jacket Winter Coats</td>\n      <td>Note:The Jackets is US standard size, Please choose size as your usual wear Material: 100% Polyester; Detachable Liner Fabric: Warm Fleece. Detachable Functional Liner: Skin Friendly, Lightweigt and Warm.Stand Collar Liner jacket, keep you warm in cold weather. Zippered Pockets: 2 Zippered Hand Pockets, 2 Zippered Pockets on Chest (enough to keep cards or keys)and 1 Hidden Pocket Inside.Zippered Hand Pockets and Hidden Pocket keep your things secure. Humanized Design: Adjustable and Detachable Hood and Adjustable cuff to prevent the wind and water,for a comfortable fit. 3 in 1 Detachable Design provide more convenience, you can separate the coat and inner as needed, or wear it together. It is suitable for different season and help you adapt to different climates</td>\n      <td>56.99</td>\n    </tr>\n    <tr>\n      <th>15</th>\n      <td>16</td>\n      <td>Lock and Love Women's Removable Hooded Faux Leather Moto Biker Jacket</td>\n      <td>100% POLYURETHANE(shell) 100% POLYESTER(lining) 75% POLYESTER 25% COTTON (SWEATER), Faux leather material for style and comfort / 2 pockets of front, 2-For-One Hooded denim style faux leather jacket, Button detail on waist / Detail stitching at sides, HAND WASH ONLY / DO NOT BLEACH / LINE DRY / DO NOT IRON</td>\n      <td>29.95</td>\n    </tr>\n    <tr>\n      <th>16</th>\n      <td>17</td>\n      <td>Rain Jacket Women Windbreaker Striped Climbing Raincoats</td>\n      <td>Lightweight perfet for trip or casual wear---Long sleeve with hooded, adjustable drawstring waist design. Button and zipper front closure raincoat, fully stripes Lined and The Raincoat has 2 side pockets are a good size to hold all kinds of things, it covers the hips, and the hood is generous but doesn't overdo it.Attached Cotton Lined Hood with Adjustable Drawstrings give it a real styled look.</td>\n      <td>39.99</td>\n    </tr>\n    <tr>\n      <th>17</th>\n      <td>18</td>\n      <td>MBJ Women's Solid Short Sleeve Boat Neck V</td>\n      <td>95% RAYON 5% SPANDEX, Made in USA or Imported, Do Not Bleach, Lightweight fabric with great stretch for comfort, Ribbed on sleeves and neckline / Double stitching on bottom hem</td>\n      <td>9.85</td>\n    </tr>\n    <tr>\n      <th>18</th>\n      <td>19</td>\n      <td>Opna Women's Short Sleeve Moisture</td>\n      <td>100% Polyester, Machine wash, 100% cationic polyester interlock, Machine Wash &amp; Pre Shrunk for a Great Fit, Lightweight, roomy and highly breathable with moisture wicking fabric which helps to keep moisture away, Soft Lightweight Fabric with comfortable V-neck collar and a slimmer fit, delivers a sleek, more feminine silhouette and Added Comfort</td>\n      <td>7.95</td>\n    </tr>\n    <tr>\n      <th>19</th>\n      <td>20</td>\n      <td>DANVOUY Womens T Shirt Casual Cotton Short</td>\n      <td>95%Cotton,5%Spandex, Features: Casual, Short Sleeve, Letter Print,V-Neck,Fashion Tees, The fabric is soft and has some stretch., Occasion: Casual/Office/Beach/School/Home/Street. Season: Spring,Summer,Autumn,Winter.</td>\n      <td>12.99</td>\n    </tr>\n    <tr>\n      <th>20</th>\n      <td>1</td>\n      <td>Fjallraven - Foldsack No. 1 Backpack, Fits 15 Laptops</td>\n      <td>Your perfect pack for everyday use and walks in the forest. Stash your laptop (up to 15 inches) in the padded sleeve, your everyday</td>\n      <td>109.95</td>\n    </tr>\n    <tr>\n      <th>21</th>\n      <td>2</td>\n      <td>Mens Casual Premium Slim Fit T-Shirts</td>\n      <td>Slim-fitting style, contrast raglan long sleeve, three-button henley placket, light weight &amp; soft fabric for breathable and comfortable wearing. And Solid stitched shirts with round neck made for durability and a great fit for casual fashion wear and diehard baseball fans. The Henley style round neckline includes a three-button placket.</td>\n      <td>22.30</td>\n    </tr>\n    <tr>\n      <th>22</th>\n      <td>3</td>\n      <td>Mens Cotton Jacket</td>\n      <td>great outerwear jackets for Spring/Autumn/Winter, suitable for many occasions, such as working, hiking, camping, mountain/rock climbing, cycling, traveling or other outdoors. Good gift choice for you or your family member. A warm hearted love to Father, husband or son in this thanksgiving or Christmas Day.</td>\n      <td>55.99</td>\n    </tr>\n    <tr>\n      <th>23</th>\n      <td>2</td>\n      <td>Mens Casual Premium Slim Fit T-Shirts</td>\n      <td>Slim-fitting style, contrast raglan long sleeve, three-button henley placket, light weight &amp; soft fabric for breathable and comfortable wearing. And Solid stitched shirts with round neck made for durability and a great fit for casual fashion wear and diehard baseball fans. The Henley style round neckline includes a three-button placket.</td>\n      <td>22.30</td>\n    </tr>\n    <tr>\n      <th>24</th>\n      <td>1</td>\n      <td>Fjallraven - Foldsack No. 1 Backpack, Fits 15 Laptops</td>\n      <td>Your perfect pack for everyday use and walks in the forest. Stash your laptop (up to 15 inches) in the padded sleeve, your everyday</td>\n      <td>109.95</td>\n    </tr>\n    <tr>\n      <th>25</th>\n      <td>5</td>\n      <td>John Hardy Women's Legends Naga Gold &amp; Silver Dragon Station Chain Bracelet</td>\n      <td>From our Legends Collection, the Naga was inspired by the mythical water dragon that protects the ocean's pearl. Wear facing inward to be bestowed with love and abundance, or outward for protection.</td>\n      <td>4.60</td>\n    </tr>\n    <tr>\n      <th>26</th>\n      <td>1</td>\n      <td>Fjallraven - Foldsack No. 1 Backpack, Fits 15 Laptops</td>\n      <td>Your perfect pack for everyday use and walks in the forest. Stash your laptop (up to 15 inches) in the padded sleeve, your everyday</td>\n      <td>109.95</td>\n    </tr>\n    <tr>\n      <th>27</th>\n      <td>9</td>\n      <td>WD 2TB Elements Portable External Hard Drive - USB 3.0</td>\n      <td>USB 3.0 and USB 2.0 Compatibility Fast data transfers Improve PC Performance High Capacity; Compatibility Formatted NTFS for Windows 10, Windows 8.1, Windows 7; Reformatting may be required for other operating systems; Compatibility may vary depending on user’s hardware configuration and operating system</td>\n      <td>64.00</td>\n    </tr>\n    <tr>\n      <th>28</th>\n      <td>1</td>\n      <td>Fjallraven - Foldsack No. 1 Backpack, Fits 15 Laptops</td>\n      <td>Your perfect pack for everyday use and walks in the forest. Stash your laptop (up to 15 inches) in the padded sleeve, your everyday</td>\n      <td>109.95</td>\n    </tr>\n    <tr>\n      <th>29</th>\n      <td>7</td>\n      <td>White Gold Plated Princess</td>\n      <td>Classic Created Wedding Engagement Solitaire Diamond Promise Ring for Her. Gifts to spoil your love more for Engagement, Wedding, Anniversary, Valentine's Day...</td>\n      <td>9.99</td>\n    </tr>\n    <tr>\n      <th>30</th>\n      <td>8</td>\n      <td>Pierced Owl Rose Gold Plated Stainless Steel Double</td>\n      <td>Rose Gold Plated Double Flared Tunnel Plug Earrings. Made of 316L Stainless Steel</td>\n      <td>10.99</td>\n    </tr>\n    <tr>\n      <th>31</th>\n      <td>10</td>\n      <td>SanDisk SSD PLUS 1TB Internal SSD - SATA III 6 Gb/s</td>\n      <td>Easy upgrade for faster boot up, shutdown, application load and response (As compared to 5400 RPM SATA 2.5” hard drive; Based on published specifications and internal benchmarking tests using PCMark vantage scores) Boosts burst write performance, making it ideal for typical PC workloads The perfect balance of performance and reliability Read/write speeds of up to 535MB/s/450MB/s (Based on internal testing; Performance may vary depending upon drive capacity, host device, OS and application.)</td>\n      <td>109.00</td>\n    </tr>\n    <tr>\n      <th>32</th>\n      <td>12</td>\n      <td>WD 4TB Gaming Drive Works with Playstation 4 Portable External Hard Drive</td>\n      <td>3D NAND flash are applied to deliver high transfer speeds Remarkable transfer speeds that enable faster bootup and improved overall system performance. The advanced SLC Cache Technology allows performance boost and longer lifespan 7mm slim design suitable for Ultrabooks and Ultra-slim notebooks. Supports TRIM command, Garbage Collection technology, RAID, and ECC (Error Checking &amp; Correction) to provide the optimized performance and enhanced reliability.</td>\n      <td>114.00</td>\n    </tr>\n    <tr>\n      <th>33</th>\n      <td>18</td>\n      <td>MBJ Women's Solid Short Sleeve Boat Neck V</td>\n      <td>95% RAYON 5% SPANDEX, Made in USA or Imported, Do Not Bleach, Lightweight fabric with great stretch for comfort, Ribbed on sleeves and neckline / Double stitching on bottom hem</td>\n      <td>9.85</td>\n    </tr>\n  </tbody>\n</table>\n</div>"
     },
     "execution_count": 6,
     "metadata": {},
     "output_type": "execute_result"
    }
   ],
   "source": [
    "Q5 = '''\n",
    "    select product_id, product_name, description, price from products\n",
    "    UNION ALL\n",
    "    select product_id, product_name, description, price from lineitems;\n",
    "    '''\n",
    "psql.read(Q5)"
   ],
   "metadata": {
    "collapsed": false,
    "pycharm": {
     "name": "#%%\n"
    }
   }
  },
  {
   "cell_type": "markdown",
   "source": [
    "### 6. Get customers that are from Kilcoole city"
   ],
   "metadata": {
    "collapsed": false,
    "pycharm": {
     "name": "#%% md\n"
    }
   }
  },
  {
   "cell_type": "code",
   "execution_count": 7,
   "outputs": [
    {
     "data": {
      "text/plain": "  first_name last_name\n0      david  morrison\n1       john       doe",
      "text/html": "<div>\n<style scoped>\n    .dataframe tbody tr th:only-of-type {\n        vertical-align: middle;\n    }\n\n    .dataframe tbody tr th {\n        vertical-align: top;\n    }\n\n    .dataframe thead th {\n        text-align: right;\n    }\n</style>\n<table border=\"1\" class=\"dataframe\">\n  <thead>\n    <tr style=\"text-align: right;\">\n      <th></th>\n      <th>first_name</th>\n      <th>last_name</th>\n    </tr>\n  </thead>\n  <tbody>\n    <tr>\n      <th>0</th>\n      <td>david</td>\n      <td>morrison</td>\n    </tr>\n    <tr>\n      <th>1</th>\n      <td>john</td>\n      <td>doe</td>\n    </tr>\n  </tbody>\n</table>\n</div>"
     },
     "execution_count": 7,
     "metadata": {},
     "output_type": "execute_result"
    }
   ],
   "source": [
    "Q6 = '''\n",
    "    select distinct first_name, last_name\n",
    "    from customers\n",
    "    where city = 'kilcoole';\n",
    "    '''\n",
    "psql.read(Q6)"
   ],
   "metadata": {
    "collapsed": false,
    "pycharm": {
     "name": "#%%\n"
    }
   }
  },
  {
   "cell_type": "markdown",
   "source": [
    "### 7. List of customers who bought Fjallraven - Foldsack No. 1 Backpack, Fits 15 Laptops"
   ],
   "metadata": {
    "collapsed": false,
    "pycharm": {
     "name": "#%% md\n"
    }
   }
  },
  {
   "cell_type": "code",
   "execution_count": 8,
   "outputs": [
    {
     "data": {
      "text/plain": "  first_name last_name\n0      david  morrison\n1       john       doe\n2      kevin      ryan",
      "text/html": "<div>\n<style scoped>\n    .dataframe tbody tr th:only-of-type {\n        vertical-align: middle;\n    }\n\n    .dataframe tbody tr th {\n        vertical-align: top;\n    }\n\n    .dataframe thead th {\n        text-align: right;\n    }\n</style>\n<table border=\"1\" class=\"dataframe\">\n  <thead>\n    <tr style=\"text-align: right;\">\n      <th></th>\n      <th>first_name</th>\n      <th>last_name</th>\n    </tr>\n  </thead>\n  <tbody>\n    <tr>\n      <th>0</th>\n      <td>david</td>\n      <td>morrison</td>\n    </tr>\n    <tr>\n      <th>1</th>\n      <td>john</td>\n      <td>doe</td>\n    </tr>\n    <tr>\n      <th>2</th>\n      <td>kevin</td>\n      <td>ryan</td>\n    </tr>\n  </tbody>\n</table>\n</div>"
     },
     "execution_count": 8,
     "metadata": {},
     "output_type": "execute_result"
    }
   ],
   "source": [
    "Q7 ='''\n",
    "    select distinct first_name , last_name\n",
    "    from customers\n",
    "        join orders on customers.customer_id = orders.customer_id\n",
    "        join lineitems on lineitems.order_id = orders.order_id\n",
    "    where lineitems.product_name = 'Fjallraven - Foldsack No. 1 Backpack, Fits 15 Laptops';\n",
    "    '''\n",
    "psql.read(Q7)"
   ],
   "metadata": {
    "collapsed": false,
    "pycharm": {
     "name": "#%%\n"
    }
   }
  },
  {
   "cell_type": "markdown",
   "source": [
    "### 8. Who bought products that have a price more than 100"
   ],
   "metadata": {
    "collapsed": false
   }
  },
  {
   "cell_type": "code",
   "execution_count": 9,
   "outputs": [
    {
     "data": {
      "text/plain": "   customer_id\n0            3\n1            4\n2            2\n3            1",
      "text/html": "<div>\n<style scoped>\n    .dataframe tbody tr th:only-of-type {\n        vertical-align: middle;\n    }\n\n    .dataframe tbody tr th {\n        vertical-align: top;\n    }\n\n    .dataframe thead th {\n        text-align: right;\n    }\n</style>\n<table border=\"1\" class=\"dataframe\">\n  <thead>\n    <tr style=\"text-align: right;\">\n      <th></th>\n      <th>customer_id</th>\n    </tr>\n  </thead>\n  <tbody>\n    <tr>\n      <th>0</th>\n      <td>3</td>\n    </tr>\n    <tr>\n      <th>1</th>\n      <td>4</td>\n    </tr>\n    <tr>\n      <th>2</th>\n      <td>2</td>\n    </tr>\n    <tr>\n      <th>3</th>\n      <td>1</td>\n    </tr>\n  </tbody>\n</table>\n</div>"
     },
     "execution_count": 9,
     "metadata": {},
     "output_type": "execute_result"
    }
   ],
   "source": [
    "Q8 = '''\n",
    "    select distinct customer_id\n",
    "    from lineitems\n",
    "        left join orders on lineitems.order_id = orders.order_id\n",
    "    where price > 100\n",
    "    '''\n",
    "psql.read(Q8)"
   ],
   "metadata": {
    "collapsed": false,
    "pycharm": {
     "name": "#%%\n"
    }
   }
  },
  {
   "cell_type": "markdown",
   "source": [
    "### 9. Total Store revenue"
   ],
   "metadata": {
    "collapsed": false,
    "pycharm": {
     "name": "#%% md\n"
    }
   }
  },
  {
   "cell_type": "code",
   "execution_count": 10,
   "outputs": [
    {
     "data": {
      "text/plain": "     total\n0  3310.47",
      "text/html": "<div>\n<style scoped>\n    .dataframe tbody tr th:only-of-type {\n        vertical-align: middle;\n    }\n\n    .dataframe tbody tr th {\n        vertical-align: top;\n    }\n\n    .dataframe thead th {\n        text-align: right;\n    }\n</style>\n<table border=\"1\" class=\"dataframe\">\n  <thead>\n    <tr style=\"text-align: right;\">\n      <th></th>\n      <th>total</th>\n    </tr>\n  </thead>\n  <tbody>\n    <tr>\n      <th>0</th>\n      <td>3310.47</td>\n    </tr>\n  </tbody>\n</table>\n</div>"
     },
     "execution_count": 10,
     "metadata": {},
     "output_type": "execute_result"
    }
   ],
   "source": [
    "Q9 = '''\n",
    "    select sum(l.price * l.quantity) as total\n",
    "    from lineitems l\n",
    "    inner join orders o\n",
    "    on l.order_id = o.order_id\n",
    "    '''\n",
    "psql.read(Q9)"
   ],
   "metadata": {
    "collapsed": false,
    "pycharm": {
     "name": "#%%\n"
    }
   }
  },
  {
   "cell_type": "markdown",
   "source": [
    "### 10. Customers who spent more than 150\n"
   ],
   "metadata": {
    "collapsed": false,
    "pycharm": {
     "name": "#%% md\n"
    }
   }
  },
  {
   "cell_type": "code",
   "execution_count": 11,
   "outputs": [
    {
     "data": {
      "text/plain": "   customer_id      sum\n0            3   460.78\n1            4   560.00\n2            2   283.90\n3            1  1995.94",
      "text/html": "<div>\n<style scoped>\n    .dataframe tbody tr th:only-of-type {\n        vertical-align: middle;\n    }\n\n    .dataframe tbody tr th {\n        vertical-align: top;\n    }\n\n    .dataframe thead th {\n        text-align: right;\n    }\n</style>\n<table border=\"1\" class=\"dataframe\">\n  <thead>\n    <tr style=\"text-align: right;\">\n      <th></th>\n      <th>customer_id</th>\n      <th>sum</th>\n    </tr>\n  </thead>\n  <tbody>\n    <tr>\n      <th>0</th>\n      <td>3</td>\n      <td>460.78</td>\n    </tr>\n    <tr>\n      <th>1</th>\n      <td>4</td>\n      <td>560.00</td>\n    </tr>\n    <tr>\n      <th>2</th>\n      <td>2</td>\n      <td>283.90</td>\n    </tr>\n    <tr>\n      <th>3</th>\n      <td>1</td>\n      <td>1995.94</td>\n    </tr>\n  </tbody>\n</table>\n</div>"
     },
     "execution_count": 11,
     "metadata": {},
     "output_type": "execute_result"
    }
   ],
   "source": [
    "Q10 = '''\n",
    "        select customer_id, sum(l.price*l.quantity)\n",
    "        from lineitems l\n",
    "            inner join orders o\n",
    "            on l.order_id = o.order_id\n",
    "        group by customer_id\n",
    "        having sum (l.price*l.quantity) > 150\n",
    "      '''\n",
    "psql.read(Q10)"
   ],
   "metadata": {
    "collapsed": false,
    "pycharm": {
     "name": "#%%\n"
    }
   }
  },
  {
   "cell_type": "markdown",
   "source": [
    "### 11. Creating a customer master view"
   ],
   "metadata": {
    "collapsed": false,
    "pycharm": {
     "name": "#%% md\n"
    }
   }
  },
  {
   "cell_type": "code",
   "execution_count": 12,
   "outputs": [
    {
     "data": {
      "text/plain": "   id             name        billing_address billing_country billing_city  \\\n0   1         john doe          new road 7682   United States     kilcoole   \n1   2   david morrison         Lovers Ln 7267   United States     kilcoole   \n2   3       kevin ryan          Frances Ct 86   United States      Cullman   \n3   4        don romer  Hunters Creek Dr 6454   United States  San Antonio   \n4   5     derek powell           adams St 245   United States  san Antonio   \n5   6    david russell        prospect st 124   United States      el paso   \n6   7    miriam snyder         saddle st 1342   United States       fresno   \n7   8  william hopkins     vally view ln 1342   United States         mesa   \n8   9        kate hale       avondale ave 345   United States        miami   \n9  10     jimmie klein       oak lawn ave 526   United States   fort wayne   \n\n   payment_type_id   notes               email  \n0                4  active      john@gmail.com  \n1                7  active  morrison@gmail.com  \n2                6  active     kevin@gmail.com  \n3                1  active       don@gmail.com  \n4                7  active     derek@gmail.com  \n5                7  active   david_r@gmail.com  \n6                5  active    miriam@gmail.com  \n7                1  active   william@gmail.com  \n8                4  active      kate@gmail.com  \n9                6  active    jimmie@gmail.com  ",
      "text/html": "<div>\n<style scoped>\n    .dataframe tbody tr th:only-of-type {\n        vertical-align: middle;\n    }\n\n    .dataframe tbody tr th {\n        vertical-align: top;\n    }\n\n    .dataframe thead th {\n        text-align: right;\n    }\n</style>\n<table border=\"1\" class=\"dataframe\">\n  <thead>\n    <tr style=\"text-align: right;\">\n      <th></th>\n      <th>id</th>\n      <th>name</th>\n      <th>billing_address</th>\n      <th>billing_country</th>\n      <th>billing_city</th>\n      <th>payment_type_id</th>\n      <th>notes</th>\n      <th>email</th>\n    </tr>\n  </thead>\n  <tbody>\n    <tr>\n      <th>0</th>\n      <td>1</td>\n      <td>john doe</td>\n      <td>new road 7682</td>\n      <td>United States</td>\n      <td>kilcoole</td>\n      <td>4</td>\n      <td>active</td>\n      <td>john@gmail.com</td>\n    </tr>\n    <tr>\n      <th>1</th>\n      <td>2</td>\n      <td>david morrison</td>\n      <td>Lovers Ln 7267</td>\n      <td>United States</td>\n      <td>kilcoole</td>\n      <td>7</td>\n      <td>active</td>\n      <td>morrison@gmail.com</td>\n    </tr>\n    <tr>\n      <th>2</th>\n      <td>3</td>\n      <td>kevin ryan</td>\n      <td>Frances Ct 86</td>\n      <td>United States</td>\n      <td>Cullman</td>\n      <td>6</td>\n      <td>active</td>\n      <td>kevin@gmail.com</td>\n    </tr>\n    <tr>\n      <th>3</th>\n      <td>4</td>\n      <td>don romer</td>\n      <td>Hunters Creek Dr 6454</td>\n      <td>United States</td>\n      <td>San Antonio</td>\n      <td>1</td>\n      <td>active</td>\n      <td>don@gmail.com</td>\n    </tr>\n    <tr>\n      <th>4</th>\n      <td>5</td>\n      <td>derek powell</td>\n      <td>adams St 245</td>\n      <td>United States</td>\n      <td>san Antonio</td>\n      <td>7</td>\n      <td>active</td>\n      <td>derek@gmail.com</td>\n    </tr>\n    <tr>\n      <th>5</th>\n      <td>6</td>\n      <td>david russell</td>\n      <td>prospect st 124</td>\n      <td>United States</td>\n      <td>el paso</td>\n      <td>7</td>\n      <td>active</td>\n      <td>david_r@gmail.com</td>\n    </tr>\n    <tr>\n      <th>6</th>\n      <td>7</td>\n      <td>miriam snyder</td>\n      <td>saddle st 1342</td>\n      <td>United States</td>\n      <td>fresno</td>\n      <td>5</td>\n      <td>active</td>\n      <td>miriam@gmail.com</td>\n    </tr>\n    <tr>\n      <th>7</th>\n      <td>8</td>\n      <td>william hopkins</td>\n      <td>vally view ln 1342</td>\n      <td>United States</td>\n      <td>mesa</td>\n      <td>1</td>\n      <td>active</td>\n      <td>william@gmail.com</td>\n    </tr>\n    <tr>\n      <th>8</th>\n      <td>9</td>\n      <td>kate hale</td>\n      <td>avondale ave 345</td>\n      <td>United States</td>\n      <td>miami</td>\n      <td>4</td>\n      <td>active</td>\n      <td>kate@gmail.com</td>\n    </tr>\n    <tr>\n      <th>9</th>\n      <td>10</td>\n      <td>jimmie klein</td>\n      <td>oak lawn ave 526</td>\n      <td>United States</td>\n      <td>fort wayne</td>\n      <td>6</td>\n      <td>active</td>\n      <td>jimmie@gmail.com</td>\n    </tr>\n  </tbody>\n</table>\n</div>"
     },
     "execution_count": 12,
     "metadata": {},
     "output_type": "execute_result"
    }
   ],
   "source": [
    "Q11 = '''\n",
    "      create view customer_master as\n",
    "        select c.customer_id as id,\n",
    "            c.first_name || ' ' || c.last_name AS name,\n",
    "            b.billing_address,\n",
    "            b.billing_country,\n",
    "            b.billing_city,\n",
    "            b.payment_type_id,\n",
    "                case\n",
    "                    when c.active then 'active'\n",
    "                    else ''\n",
    "                end as notes,\n",
    "            c.email\n",
    "            from customers c\n",
    "                 inner join billing_address b on c.customer_id = b.customer_id;\n",
    "      '''\n",
    "psql.read('''select c.customer_id as id,\n",
    "                c.first_name || ' ' || c.last_name AS name,\n",
    "                b.billing_address,\n",
    "                b.billing_country,\n",
    "                b.billing_city,\n",
    "                b.payment_type_id,\n",
    "                    case\n",
    "                        when c.active then 'active'\n",
    "                        else ''\n",
    "                    end as notes,\n",
    "                c.email\n",
    "                from customers c\n",
    "                     inner join billing_address b on c.customer_id = b.customer_id;''')"
   ],
   "metadata": {
    "collapsed": false,
    "pycharm": {
     "name": "#%%\n"
    }
   }
  },
  {
   "cell_type": "markdown",
   "source": [
    "### 12. shipping address and billing address intersection\n"
   ],
   "metadata": {
    "collapsed": false,
    "pycharm": {
     "name": "#%% md\n"
    }
   }
  },
  {
   "cell_type": "code",
   "execution_count": 13,
   "outputs": [
    {
     "data": {
      "text/plain": "   customer_id        country         city                address         zip\n0            3  United States      Cullman          Frances Ct 86  29567-1452\n1            1  United States     kilcoole          new road 7682  12926-3874\n2            4  United States  San Antonio  Hunters Creek Dr 6454  98234-1734",
      "text/html": "<div>\n<style scoped>\n    .dataframe tbody tr th:only-of-type {\n        vertical-align: middle;\n    }\n\n    .dataframe tbody tr th {\n        vertical-align: top;\n    }\n\n    .dataframe thead th {\n        text-align: right;\n    }\n</style>\n<table border=\"1\" class=\"dataframe\">\n  <thead>\n    <tr style=\"text-align: right;\">\n      <th></th>\n      <th>customer_id</th>\n      <th>country</th>\n      <th>city</th>\n      <th>address</th>\n      <th>zip</th>\n    </tr>\n  </thead>\n  <tbody>\n    <tr>\n      <th>0</th>\n      <td>3</td>\n      <td>United States</td>\n      <td>Cullman</td>\n      <td>Frances Ct 86</td>\n      <td>29567-1452</td>\n    </tr>\n    <tr>\n      <th>1</th>\n      <td>1</td>\n      <td>United States</td>\n      <td>kilcoole</td>\n      <td>new road 7682</td>\n      <td>12926-3874</td>\n    </tr>\n    <tr>\n      <th>2</th>\n      <td>4</td>\n      <td>United States</td>\n      <td>San Antonio</td>\n      <td>Hunters Creek Dr 6454</td>\n      <td>98234-1734</td>\n    </tr>\n  </tbody>\n</table>\n</div>"
     },
     "execution_count": 13,
     "metadata": {},
     "output_type": "execute_result"
    }
   ],
   "source": [
    "Q12 = '''\n",
    "    select customer_id, country, city, address, zip\n",
    "    from shipping_address\n",
    "    intersect\n",
    "    select customer_id, billing_country, billing_city, billing_address, zip\n",
    "    from billing_address;\n",
    "    '''\n",
    "psql.read(Q12)"
   ],
   "metadata": {
    "collapsed": false,
    "pycharm": {
     "name": "#%%\n"
    }
   }
  },
  {
   "cell_type": "markdown",
   "source": [
    "### 13. select all customers that have made an order in the past 30 days"
   ],
   "metadata": {
    "collapsed": false,
    "pycharm": {
     "name": "#%% md\n"
    }
   }
  },
  {
   "cell_type": "code",
   "execution_count": 14,
   "outputs": [
    {
     "data": {
      "text/plain": "             name\n0  david morrison\n1      kevin ryan",
      "text/html": "<div>\n<style scoped>\n    .dataframe tbody tr th:only-of-type {\n        vertical-align: middle;\n    }\n\n    .dataframe tbody tr th {\n        vertical-align: top;\n    }\n\n    .dataframe thead th {\n        text-align: right;\n    }\n</style>\n<table border=\"1\" class=\"dataframe\">\n  <thead>\n    <tr style=\"text-align: right;\">\n      <th></th>\n      <th>name</th>\n    </tr>\n  </thead>\n  <tbody>\n    <tr>\n      <th>0</th>\n      <td>david morrison</td>\n    </tr>\n    <tr>\n      <th>1</th>\n      <td>kevin ryan</td>\n    </tr>\n  </tbody>\n</table>\n</div>"
     },
     "execution_count": 14,
     "metadata": {},
     "output_type": "execute_result"
    }
   ],
   "source": [
    "Q13 = '''\n",
    "        select c.first_name || ' ' || c.last_name as name\n",
    "        from customers c\n",
    "            full outer join orders o on c.customer_id = o.customer_id\n",
    "        where purchased_at >= now() - interval '30 days';\n",
    "    '''\n",
    "psql.read(Q13)"
   ],
   "metadata": {
    "collapsed": false,
    "pycharm": {
     "name": "#%%\n"
    }
   }
  },
  {
   "cell_type": "markdown",
   "source": [
    "### 14. Orders with more than 2 products"
   ],
   "metadata": {
    "collapsed": false,
    "pycharm": {
     "name": "#%% md\n"
    }
   }
  },
  {
   "cell_type": "code",
   "execution_count": 15,
   "outputs": [
    {
     "data": {
      "text/plain": "   order_id  count\n0         2      3\n1         1      3",
      "text/html": "<div>\n<style scoped>\n    .dataframe tbody tr th:only-of-type {\n        vertical-align: middle;\n    }\n\n    .dataframe tbody tr th {\n        vertical-align: top;\n    }\n\n    .dataframe thead th {\n        text-align: right;\n    }\n</style>\n<table border=\"1\" class=\"dataframe\">\n  <thead>\n    <tr style=\"text-align: right;\">\n      <th></th>\n      <th>order_id</th>\n      <th>count</th>\n    </tr>\n  </thead>\n  <tbody>\n    <tr>\n      <th>0</th>\n      <td>2</td>\n      <td>3</td>\n    </tr>\n    <tr>\n      <th>1</th>\n      <td>1</td>\n      <td>3</td>\n    </tr>\n  </tbody>\n</table>\n</div>"
     },
     "execution_count": 15,
     "metadata": {},
     "output_type": "execute_result"
    }
   ],
   "source": [
    "Q14 = '''\n",
    "        select order_id, count (product_id)\n",
    "        from lineitems\n",
    "        group by order_id\n",
    "        having count (product_id) > 2;\n",
    "      '''\n",
    "psql.read(Q14)"
   ],
   "metadata": {
    "collapsed": false,
    "pycharm": {
     "name": "#%%\n"
    }
   }
  },
  {
   "cell_type": "markdown",
   "source": [
    "### 15. Customers who bought products from category men's clothing Except(MINUS) the products that are cheaper than 10"
   ],
   "metadata": {
    "collapsed": false,
    "pycharm": {
     "name": "#%% md\n"
    }
   }
  },
  {
   "cell_type": "code",
   "execution_count": 16,
   "outputs": [
    {
     "data": {
      "text/plain": "  first_name last_name\n0       john       doe\n1      david  morrison",
      "text/html": "<div>\n<style scoped>\n    .dataframe tbody tr th:only-of-type {\n        vertical-align: middle;\n    }\n\n    .dataframe tbody tr th {\n        vertical-align: top;\n    }\n\n    .dataframe thead th {\n        text-align: right;\n    }\n</style>\n<table border=\"1\" class=\"dataframe\">\n  <thead>\n    <tr style=\"text-align: right;\">\n      <th></th>\n      <th>first_name</th>\n      <th>last_name</th>\n    </tr>\n  </thead>\n  <tbody>\n    <tr>\n      <th>0</th>\n      <td>john</td>\n      <td>doe</td>\n    </tr>\n    <tr>\n      <th>1</th>\n      <td>david</td>\n      <td>morrison</td>\n    </tr>\n  </tbody>\n</table>\n</div>"
     },
     "execution_count": 16,
     "metadata": {},
     "output_type": "execute_result"
    }
   ],
   "source": [
    "Q15 = '''\n",
    "        select distinct first_name, last_name\n",
    "        from customers c\n",
    "            inner join orders o on c.customer_id = o.customer_id\n",
    "            inner join lineitems l on o.order_id = l.order_id\n",
    "            left join products p on l.product_id = p.product_id\n",
    "        where p.category_id = (\n",
    "            select category_id\n",
    "            from categories c2\n",
    "            where category_id = 3\n",
    "        )\n",
    "        except\n",
    "        select first_name, last_name\n",
    "        from customers c\n",
    "            inner join orders o on c.customer_id = o.customer_id\n",
    "            inner join lineitems l on o.order_id = l.order_id\n",
    "            left join products p on l.product_id = p.product_id\n",
    "        where p.price < 10;\n",
    "      '''\n",
    "psql.read(Q15)\n"
   ],
   "metadata": {
    "collapsed": false,
    "pycharm": {
     "name": "#%%\n"
    }
   }
  },
  {
   "cell_type": "markdown",
   "source": [
    "### 16. Orders analysis"
   ],
   "metadata": {
    "collapsed": false,
    "pycharm": {
     "name": "#%% md\n"
    }
   }
  },
  {
   "cell_type": "code",
   "execution_count": 17,
   "outputs": [
    {
     "data": {
      "text/plain": "   product_id  orders  revenue  margin  average_order_value\n0           1       4  2199.00  439.80               109.95\n1           2       2   111.50   44.60                22.30\n2           3       1   335.94   55.99                55.99\n3           5       1     9.20    4.60                 4.60\n4           7       1     9.99    9.99                 9.99\n5           8       1    10.99   10.99                10.99\n6           9       1    64.00   64.00                64.00\n7          10       1   218.00  109.00               109.00\n8          12       1   342.00  114.00               114.00\n9          18       1     9.85    9.85                 9.85",
      "text/html": "<div>\n<style scoped>\n    .dataframe tbody tr th:only-of-type {\n        vertical-align: middle;\n    }\n\n    .dataframe tbody tr th {\n        vertical-align: top;\n    }\n\n    .dataframe thead th {\n        text-align: right;\n    }\n</style>\n<table border=\"1\" class=\"dataframe\">\n  <thead>\n    <tr style=\"text-align: right;\">\n      <th></th>\n      <th>product_id</th>\n      <th>orders</th>\n      <th>revenue</th>\n      <th>margin</th>\n      <th>average_order_value</th>\n    </tr>\n  </thead>\n  <tbody>\n    <tr>\n      <th>0</th>\n      <td>1</td>\n      <td>4</td>\n      <td>2199.00</td>\n      <td>439.80</td>\n      <td>109.95</td>\n    </tr>\n    <tr>\n      <th>1</th>\n      <td>2</td>\n      <td>2</td>\n      <td>111.50</td>\n      <td>44.60</td>\n      <td>22.30</td>\n    </tr>\n    <tr>\n      <th>2</th>\n      <td>3</td>\n      <td>1</td>\n      <td>335.94</td>\n      <td>55.99</td>\n      <td>55.99</td>\n    </tr>\n    <tr>\n      <th>3</th>\n      <td>5</td>\n      <td>1</td>\n      <td>9.20</td>\n      <td>4.60</td>\n      <td>4.60</td>\n    </tr>\n    <tr>\n      <th>4</th>\n      <td>7</td>\n      <td>1</td>\n      <td>9.99</td>\n      <td>9.99</td>\n      <td>9.99</td>\n    </tr>\n    <tr>\n      <th>5</th>\n      <td>8</td>\n      <td>1</td>\n      <td>10.99</td>\n      <td>10.99</td>\n      <td>10.99</td>\n    </tr>\n    <tr>\n      <th>6</th>\n      <td>9</td>\n      <td>1</td>\n      <td>64.00</td>\n      <td>64.00</td>\n      <td>64.00</td>\n    </tr>\n    <tr>\n      <th>7</th>\n      <td>10</td>\n      <td>1</td>\n      <td>218.00</td>\n      <td>109.00</td>\n      <td>109.00</td>\n    </tr>\n    <tr>\n      <th>8</th>\n      <td>12</td>\n      <td>1</td>\n      <td>342.00</td>\n      <td>114.00</td>\n      <td>114.00</td>\n    </tr>\n    <tr>\n      <th>9</th>\n      <td>18</td>\n      <td>1</td>\n      <td>9.85</td>\n      <td>9.85</td>\n      <td>9.85</td>\n    </tr>\n  </tbody>\n</table>\n</div>"
     },
     "execution_count": 17,
     "metadata": {},
     "output_type": "execute_result"
    }
   ],
   "source": [
    "Q16 = '''\n",
    "        select\n",
    "            product_id,\n",
    "            count (distinct order_id)  orders,\n",
    "            sum (price * quantity)  revenue,\n",
    "            sum (price) margin,\n",
    "            avg (price) average_order_value\n",
    "        from lineitems\n",
    "        where\n",
    "            order_id between 1 and 10\n",
    "        group by\n",
    "            1\n",
    "        order by\n",
    "            2 desc;\n",
    "    '''\n",
    "psql.read(Q16)"
   ],
   "metadata": {
    "collapsed": false,
    "pycharm": {
     "name": "#%%\n"
    }
   }
  },
  {
   "cell_type": "markdown",
   "source": [
    "### 17. Cross-sell experiment"
   ],
   "metadata": {
    "collapsed": false,
    "pycharm": {
     "name": "#%% md\n"
    }
   }
  },
  {
   "cell_type": "code",
   "execution_count": 18,
   "outputs": [
    {
     "data": {
      "text/plain": "   product_id  orders  cross_sell_product_1  cross_sell_product_2  \\\n0           1       4                     4                     0   \n1           2       2                     0                     2   \n2           3       1                     0                     0   \n3           5       1                     0                     0   \n4           7       1                     0                     0   \n5           8       1                     0                     0   \n6           9       1                     0                     0   \n7          10       1                     0                     0   \n8          12       1                     0                     0   \n9          18       1                     0                     0   \n\n   cross_sell_product_3  \n0                     0  \n1                     0  \n2                     1  \n3                     0  \n4                     0  \n5                     0  \n6                     0  \n7                     0  \n8                     0  \n9                     0  ",
      "text/html": "<div>\n<style scoped>\n    .dataframe tbody tr th:only-of-type {\n        vertical-align: middle;\n    }\n\n    .dataframe tbody tr th {\n        vertical-align: top;\n    }\n\n    .dataframe thead th {\n        text-align: right;\n    }\n</style>\n<table border=\"1\" class=\"dataframe\">\n  <thead>\n    <tr style=\"text-align: right;\">\n      <th></th>\n      <th>product_id</th>\n      <th>orders</th>\n      <th>cross_sell_product_1</th>\n      <th>cross_sell_product_2</th>\n      <th>cross_sell_product_3</th>\n    </tr>\n  </thead>\n  <tbody>\n    <tr>\n      <th>0</th>\n      <td>1</td>\n      <td>4</td>\n      <td>4</td>\n      <td>0</td>\n      <td>0</td>\n    </tr>\n    <tr>\n      <th>1</th>\n      <td>2</td>\n      <td>2</td>\n      <td>0</td>\n      <td>2</td>\n      <td>0</td>\n    </tr>\n    <tr>\n      <th>2</th>\n      <td>3</td>\n      <td>1</td>\n      <td>0</td>\n      <td>0</td>\n      <td>1</td>\n    </tr>\n    <tr>\n      <th>3</th>\n      <td>5</td>\n      <td>1</td>\n      <td>0</td>\n      <td>0</td>\n      <td>0</td>\n    </tr>\n    <tr>\n      <th>4</th>\n      <td>7</td>\n      <td>1</td>\n      <td>0</td>\n      <td>0</td>\n      <td>0</td>\n    </tr>\n    <tr>\n      <th>5</th>\n      <td>8</td>\n      <td>1</td>\n      <td>0</td>\n      <td>0</td>\n      <td>0</td>\n    </tr>\n    <tr>\n      <th>6</th>\n      <td>9</td>\n      <td>1</td>\n      <td>0</td>\n      <td>0</td>\n      <td>0</td>\n    </tr>\n    <tr>\n      <th>7</th>\n      <td>10</td>\n      <td>1</td>\n      <td>0</td>\n      <td>0</td>\n      <td>0</td>\n    </tr>\n    <tr>\n      <th>8</th>\n      <td>12</td>\n      <td>1</td>\n      <td>0</td>\n      <td>0</td>\n      <td>0</td>\n    </tr>\n    <tr>\n      <th>9</th>\n      <td>18</td>\n      <td>1</td>\n      <td>0</td>\n      <td>0</td>\n      <td>0</td>\n    </tr>\n  </tbody>\n</table>\n</div>"
     },
     "execution_count": 18,
     "metadata": {},
     "output_type": "execute_result"
    }
   ],
   "source": [
    "Q17 = '''\n",
    "    select\n",
    "        lineitems.product_id,\n",
    "        count (distinct orders.order_id) orders,\n",
    "        count (distinct case when lineitems.product_id = 1 then orders.order_id else null end) cross_sell_product_1,\n",
    "        count (distinct case when lineitems.product_id = 2 then orders.order_id else null end) cross_sell_product_2,\n",
    "        count (distinct case when lineitems.product_id = 3 then orders.order_id else null end) cross_sell_product_3\n",
    "    from orders\n",
    "        left join lineitems on lineitems.order_id = orders.order_id\n",
    "    group by 1;\n",
    "    '''\n",
    "psql.read(Q17)"
   ],
   "metadata": {
    "collapsed": false,
    "pycharm": {
     "name": "#%%\n"
    }
   }
  },
  {
   "cell_type": "markdown",
   "source": [
    "### 18. Product id 1, completed orders status date analysis"
   ],
   "metadata": {
    "collapsed": false,
    "pycharm": {
     "name": "#%% md\n"
    }
   }
  },
  {
   "cell_type": "code",
   "execution_count": 19,
   "outputs": [
    {
     "data": {
      "text/plain": "     year  month  product_1_orders\n0  2021.0    2.0                 1\n1  2021.0    4.0                 0\n2  2021.0    6.0                 0\n3  2021.0    8.0                 1\n4  2021.0    9.0                 1",
      "text/html": "<div>\n<style scoped>\n    .dataframe tbody tr th:only-of-type {\n        vertical-align: middle;\n    }\n\n    .dataframe tbody tr th {\n        vertical-align: top;\n    }\n\n    .dataframe thead th {\n        text-align: right;\n    }\n</style>\n<table border=\"1\" class=\"dataframe\">\n  <thead>\n    <tr style=\"text-align: right;\">\n      <th></th>\n      <th>year</th>\n      <th>month</th>\n      <th>product_1_orders</th>\n    </tr>\n  </thead>\n  <tbody>\n    <tr>\n      <th>0</th>\n      <td>2021.0</td>\n      <td>2.0</td>\n      <td>1</td>\n    </tr>\n    <tr>\n      <th>1</th>\n      <td>2021.0</td>\n      <td>4.0</td>\n      <td>0</td>\n    </tr>\n    <tr>\n      <th>2</th>\n      <td>2021.0</td>\n      <td>6.0</td>\n      <td>0</td>\n    </tr>\n    <tr>\n      <th>3</th>\n      <td>2021.0</td>\n      <td>8.0</td>\n      <td>1</td>\n    </tr>\n    <tr>\n      <th>4</th>\n      <td>2021.0</td>\n      <td>9.0</td>\n      <td>1</td>\n    </tr>\n  </tbody>\n</table>\n</div>"
     },
     "execution_count": 19,
     "metadata": {},
     "output_type": "execute_result"
    }
   ],
   "source": [
    "Q18 = '''\n",
    "    select\n",
    "        extract (year from orders.purchased_at) as year,\n",
    "        extract (month from orders.purchased_at) as  month,\n",
    "        count ( distinct case when product_id = 1 then lineitems.lineitem_id else null end) product_1_orders\n",
    "    from lineitems\n",
    "        join orders on lineitems.order_id = orders.order_id\n",
    "    where orders.order_status = 'completed'\n",
    "    group by 1,2;\n",
    "    '''\n",
    "psql.read(Q18)"
   ],
   "metadata": {
    "collapsed": false,
    "pycharm": {
     "name": "#%%\n"
    }
   }
  },
  {
   "cell_type": "markdown",
   "source": [
    "### 19. Add a new column containing the number of orders for each customer\n"
   ],
   "metadata": {
    "collapsed": false,
    "pycharm": {
     "name": "#%% md\n"
    }
   }
  },
  {
   "cell_type": "code",
   "execution_count": 20,
   "outputs": [],
   "source": [
    "Q19 = '''\n",
    "    alter table orders\n",
    "        add order_number varchar;\n",
    "\n",
    "    update orders\n",
    "    SET order_number = CASE WHEN LEFT(order_id, 3) <> 'gid' THEN order_id ELSE '' END;\n",
    "    '''\n",
    "\n",
    "\n"
   ],
   "metadata": {
    "collapsed": false,
    "pycharm": {
     "name": "#%%\n"
    }
   }
  }
 ],
 "metadata": {
  "kernelspec": {
   "display_name": "Python 3",
   "language": "python",
   "name": "python3"
  },
  "language_info": {
   "codemirror_mode": {
    "name": "ipython",
    "version": 2
   },
   "file_extension": ".py",
   "mimetype": "text/x-python",
   "name": "python",
   "nbconvert_exporter": "python",
   "pygments_lexer": "ipython2",
   "version": "2.7.6"
  },
  "pycharm": {
   "stem_cell": {
    "cell_type": "raw",
    "source": [
     "\n"
    ],
    "metadata": {
     "collapsed": false
    }
   }
  }
 },
 "nbformat": 4,
 "nbformat_minor": 0
}